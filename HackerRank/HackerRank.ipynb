{
 "cells": [
  {
   "cell_type": "markdown",
   "metadata": {},
   "source": [
    "# Hacker Rank"
   ]
  },
  {
   "cell_type": "markdown",
   "metadata": {},
   "source": [
    "Aim is to do coding everyday, even for 5 minutes :P"
   ]
  },
  {
   "cell_type": "markdown",
   "metadata": {},
   "source": [
    "## Jumping on the Cloud"
   ]
  },
  {
   "cell_type": "code",
   "execution_count": null,
   "metadata": {},
   "outputs": [],
   "source": [
    "def jumpingOnClouds(c):\n",
    "    i=0 #index of c\n",
    "    l=len(c) #Length of c\n",
    "    j=0 #Number of jumps\n",
    "    if (l==2):\n",
    "        return 1\n",
    "    else:\n",
    "        while (i<l-2):\n",
    "            if (c[i+2]==0):\n",
    "                i=i+2\n",
    "            else:\n",
    "                i=i+1\n",
    "            j=j+1\n",
    "        if (i!=l-1):\n",
    "            j=j+1\n",
    "        return j"
   ]
  },
  {
   "cell_type": "markdown",
   "metadata": {},
   "source": [
    "## Repeated String"
   ]
  },
  {
   "cell_type": "code",
   "execution_count": null,
   "metadata": {},
   "outputs": [],
   "source": [
    "def repeatedString(s, n):\n",
    "    lengthOfs=len(s) #Length of the repeated string\n",
    "    if lengthOfs ==1 and s==\"a\":\n",
    "        return n\n",
    "    div=math.floor(n/lengthOfs)\n",
    "    print(div)\n",
    "    rem=n%lengthOfs\n",
    "    newstring=(s*div)+s[:rem]\n",
    "    print(newstring)\n",
    "    count=newstring.count(\"a\")\n",
    "    return count"
   ]
  },
  {
   "cell_type": "markdown",
   "metadata": {},
   "source": [
    "Found this golden one line code that basically did what I do, but more effectively"
   ]
  },
  {
   "cell_type": "code",
   "execution_count": null,
   "metadata": {},
   "outputs": [],
   "source": [
    "return s.count(\"a\") * (n // len(s)) + s[:n % len(s)].count(\"a\")"
   ]
  }
 ],
 "metadata": {
  "kernelspec": {
   "display_name": "Python 3",
   "language": "python",
   "name": "python3"
  },
  "language_info": {
   "codemirror_mode": {
    "name": "ipython",
    "version": 3
   },
   "file_extension": ".py",
   "mimetype": "text/x-python",
   "name": "python",
   "nbconvert_exporter": "python",
   "pygments_lexer": "ipython3",
   "version": "3.7.4"
  }
 },
 "nbformat": 4,
 "nbformat_minor": 2
}
