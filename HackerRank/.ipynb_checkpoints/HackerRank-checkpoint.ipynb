{
 "cells": [
  {
   "cell_type": "markdown",
   "metadata": {},
   "source": [
    "# Hacker Rank"
   ]
  },
  {
   "cell_type": "markdown",
   "metadata": {},
   "source": [
    "Aim is to do coding everyday, even for 5 minutes :P"
   ]
  },
  {
   "cell_type": "markdown",
   "metadata": {},
   "source": [
    "## Jumping on the Cloud"
   ]
  },
  {
   "cell_type": "code",
   "execution_count": null,
   "metadata": {},
   "outputs": [],
   "source": [
    "def jumpingOnClouds(c):\n",
    "    i=0 #index of c\n",
    "    l=len(c) #Length of c\n",
    "    j=0 #Number of jumps\n",
    "    if (l==2):\n",
    "        return 1\n",
    "    else:\n",
    "        while (i<l-2):\n",
    "            if (c[i+2]==0):\n",
    "                i=i+2\n",
    "            else:\n",
    "                i=i+1\n",
    "            j=j+1\n",
    "        if (i!=l-1):\n",
    "            j=j+1\n",
    "        return j"
   ]
  }
 ],
 "metadata": {
  "kernelspec": {
   "display_name": "Python 3",
   "language": "python",
   "name": "python3"
  },
  "language_info": {
   "codemirror_mode": {
    "name": "ipython",
    "version": 3
   },
   "file_extension": ".py",
   "mimetype": "text/x-python",
   "name": "python",
   "nbconvert_exporter": "python",
   "pygments_lexer": "ipython3",
   "version": "3.7.4"
  }
 },
 "nbformat": 4,
 "nbformat_minor": 2
}
